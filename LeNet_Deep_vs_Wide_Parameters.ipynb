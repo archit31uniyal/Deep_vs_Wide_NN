{
  "nbformat": 4,
  "nbformat_minor": 0,
  "metadata": {
    "accelerator": "GPU",
    "colab": {
      "name": "LeNet_Deep_vs_Wide_Parameters",
      "provenance": [],
      "collapsed_sections": []
    },
    "kernelspec": {
      "display_name": "Python 3",
      "language": "python",
      "name": "python3"
    },
    "language_info": {
      "codemirror_mode": {
        "name": "ipython",
        "version": 3
      },
      "file_extension": ".py",
      "mimetype": "text/x-python",
      "name": "python",
      "nbconvert_exporter": "python",
      "pygments_lexer": "ipython3",
      "version": "3.8.5"
    }
  },
  "cells": [
    {
      "cell_type": "code",
      "metadata": {
        "colab": {
          "base_uri": "https://localhost:8080/"
        },
        "id": "qYealP-NwY-5",
        "outputId": "b518b04e-30b5-4498-a11c-d891c12ab56c"
      },
      "source": [
        "!nvidia-smi"
      ],
      "execution_count": 1,
      "outputs": [
        {
          "output_type": "stream",
          "text": [
            "Sun Nov 22 14:19:01 2020       \n",
            "+-----------------------------------------------------------------------------+\n",
            "| NVIDIA-SMI 455.38       Driver Version: 418.67       CUDA Version: 10.1     |\n",
            "|-------------------------------+----------------------+----------------------+\n",
            "| GPU  Name        Persistence-M| Bus-Id        Disp.A | Volatile Uncorr. ECC |\n",
            "| Fan  Temp  Perf  Pwr:Usage/Cap|         Memory-Usage | GPU-Util  Compute M. |\n",
            "|                               |                      |               MIG M. |\n",
            "|===============================+======================+======================|\n",
            "|   0  Tesla K80           Off  | 00000000:00:04.0 Off |                    0 |\n",
            "| N/A   34C    P8    28W / 149W |      0MiB / 11441MiB |      0%      Default |\n",
            "|                               |                      |                 ERR! |\n",
            "+-------------------------------+----------------------+----------------------+\n",
            "                                                                               \n",
            "+-----------------------------------------------------------------------------+\n",
            "| Processes:                                                                  |\n",
            "|  GPU   GI   CI        PID   Type   Process name                  GPU Memory |\n",
            "|        ID   ID                                                   Usage      |\n",
            "|=============================================================================|\n",
            "|  No running processes found                                                 |\n",
            "+-----------------------------------------------------------------------------+\n"
          ],
          "name": "stdout"
        }
      ]
    },
    {
      "cell_type": "code",
      "metadata": {
        "id": "E5BBXLk-TeO2"
      },
      "source": [
        "import numpy as np\n",
        "import torch\n",
        "import torch.nn.functional as F\n",
        "from torch import nn, optim\n",
        "from torchvision import datasets, transforms, models\n",
        "from torch import Tensor\n",
        "from typing import Type, Any, Callable, Union, List, Optional\n",
        "import os"
      ],
      "execution_count": 2,
      "outputs": []
    },
    {
      "cell_type": "code",
      "metadata": {
        "id": "7zobnA_-ToFR"
      },
      "source": [
        "# __all__ = ['ResNet', 'resnet18', 'resnet34', 'resnet50', 'resnet101',\n",
        "#            'resnet152', 'resnext50_32x4d', 'resnext101_32x8d',\n",
        "#            'wide_resnet50_2', 'wide_resnet101_2']\n",
        "\n",
        "\n",
        "# model_urls = {\n",
        "#     'resnet18': 'https://download.pytorch.org/models/resnet18-5c106cde.pth',\n",
        "#     'resnet34': 'https://download.pytorch.org/models/resnet34-333f7ec4.pth',\n",
        "#     'resnet50': 'https://download.pytorch.org/models/resnet50-19c8e357.pth',\n",
        "#     'resnet101': 'https://download.pytorch.org/models/resnet101-5d3b4d8f.pth',\n",
        "#     'resnet152': 'https://download.pytorch.org/models/resnet152-b121ed2d.pth',\n",
        "#     'resnext50_32x4d': 'https://download.pytorch.org/models/resnext50_32x4d-7cdf4587.pth',\n",
        "#     'resnext101_32x8d': 'https://download.pytorch.org/models/resnext101_32x8d-8ba56ff5.pth',\n",
        "#     'wide_resnet50_2': 'https://download.pytorch.org/models/wide_resnet50_2-95faca4d.pth',\n",
        "#     'wide_resnet101_2': 'https://download.pytorch.org/models/wide_resnet101_2-32ee1156.pth',\n",
        "# }"
      ],
      "execution_count": 3,
      "outputs": []
    },
    {
      "cell_type": "code",
      "metadata": {
        "id": "chG0K9-4wMbt"
      },
      "source": [
        "class ConvBlock(nn.Module):\n",
        "    def __init__(self, in_channels, out_channels, k, kernel_size = 5, stride = 1):\n",
        "        super(ConvBlock, self).__init__()\n",
        "        \n",
        "        self.conv = nn.Conv2d(in_channels, out_channels*k, kernel_size, stride)\n",
        "        self.tanh = nn.Tanh()\n",
        "        self.pool = nn.AvgPool2d(kernel_size = 2)\n",
        "    \n",
        "    def forward(self, x):\n",
        "        x = self.conv(x)\n",
        "        out = self.pool(self.tanh(x))\n",
        "        \n",
        "        return out "
      ],
      "execution_count": 3,
      "outputs": []
    },
    {
      "cell_type": "markdown",
      "metadata": {
        "id": "morUfocyRsQf"
      },
      "source": [
        "### Vanilla LeNet"
      ]
    },
    {
      "cell_type": "code",
      "metadata": {
        "id": "tjZdPfhdRaDL"
      },
      "source": [
        "class LeNet5(nn.Module):\n",
        "\n",
        "    def __init__(self, n_classes):\n",
        "        super(LeNet5, self).__init__()\n",
        "        \n",
        "        self.feature_extractor = nn.Sequential(            \n",
        "            nn.Conv2d(in_channels=3, out_channels=6, kernel_size=5, stride=1),\n",
        "            nn.Tanh(),\n",
        "            nn.AvgPool2d(kernel_size=2),\n",
        "            nn.Conv2d(in_channels=6, out_channels=16, kernel_size=5, stride=1),\n",
        "            nn.Tanh(),\n",
        "            nn.AvgPool2d(kernel_size=2),\n",
        "            nn.Conv2d(in_channels=16, out_channels=120, kernel_size=5, stride=1),\n",
        "            nn.Tanh()\n",
        "        )\n",
        "\n",
        "        self.classifier = nn.Sequential(\n",
        "            nn.Linear(in_features=120, out_features=84),\n",
        "            nn.Tanh(),\n",
        "            nn.Linear(in_features=84, out_features=n_classes),\n",
        "        )\n",
        "\n",
        "\n",
        "    def forward(self, x):\n",
        "        x = self.feature_extractor(x)\n",
        "        x = torch.flatten(x, 1)\n",
        "        logits = self.classifier(x)\n",
        "        return logits"
      ],
      "execution_count": 4,
      "outputs": []
    },
    {
      "cell_type": "code",
      "metadata": {
        "colab": {
          "base_uri": "https://localhost:8080/"
        },
        "id": "-nGJ_8kARv3f",
        "outputId": "f9a03fa7-8e4b-4b45-afba-843f8656b3a4"
      },
      "source": [
        "from torchsummary import summary\n",
        "LeNet5 = LeNet5(10)\n",
        "LeNet5.cuda()\n",
        "summary(LeNet5, (3, 32, 32))"
      ],
      "execution_count": 5,
      "outputs": [
        {
          "output_type": "stream",
          "text": [
            "----------------------------------------------------------------\n",
            "        Layer (type)               Output Shape         Param #\n",
            "================================================================\n",
            "            Conv2d-1            [-1, 6, 28, 28]             456\n",
            "              Tanh-2            [-1, 6, 28, 28]               0\n",
            "         AvgPool2d-3            [-1, 6, 14, 14]               0\n",
            "            Conv2d-4           [-1, 16, 10, 10]           2,416\n",
            "              Tanh-5           [-1, 16, 10, 10]               0\n",
            "         AvgPool2d-6             [-1, 16, 5, 5]               0\n",
            "            Conv2d-7            [-1, 120, 1, 1]          48,120\n",
            "              Tanh-8            [-1, 120, 1, 1]               0\n",
            "            Linear-9                   [-1, 84]          10,164\n",
            "             Tanh-10                   [-1, 84]               0\n",
            "           Linear-11                   [-1, 10]             850\n",
            "================================================================\n",
            "Total params: 62,006\n",
            "Trainable params: 62,006\n",
            "Non-trainable params: 0\n",
            "----------------------------------------------------------------\n",
            "Input size (MB): 0.01\n",
            "Forward/backward pass size (MB): 0.11\n",
            "Params size (MB): 0.24\n",
            "Estimated Total Size (MB): 0.36\n",
            "----------------------------------------------------------------\n"
          ],
          "name": "stdout"
        }
      ]
    },
    {
      "cell_type": "code",
      "metadata": {
        "id": "6ZrRd5dt_JUp"
      },
      "source": [
        ""
      ],
      "execution_count": null,
      "outputs": []
    },
    {
      "cell_type": "markdown",
      "metadata": {
        "id": "ULAwF7F7RlGD"
      },
      "source": [
        "### Wide LeNet with Linear Bottle Neck"
      ]
    },
    {
      "cell_type": "code",
      "metadata": {
        "id": "FEGn5y-L_Jt1"
      },
      "source": [
        "class Linear_WideLeNet5(nn.Module):\n",
        "\n",
        "    def __init__(self, n_classes):\n",
        "        super(Linear_WideLeNet5, self).__init__()\n",
        "        \n",
        "        self.feature_extractor = nn.Sequential(            \n",
        "            nn.Conv2d(in_channels=3, out_channels=6, kernel_size=5, stride=1),\n",
        "            nn.Tanh(),\n",
        "            nn.AvgPool2d(kernel_size=2),\n",
        "            nn.Conv2d(in_channels=6, out_channels=32, kernel_size=5, stride=1, padding = 1),\n",
        "            nn.Conv2d(in_channels=32, out_channels=8, kernel_size=1, stride=1, padding = 1),\n",
        "            nn.Conv2d(in_channels=8, out_channels=62, kernel_size=5, stride=1),\n",
        "            nn.Tanh(),\n",
        "            nn.AvgPool2d(kernel_size=2),\n",
        "            nn.Conv2d(in_channels=62, out_channels=11, kernel_size=1, stride=1, padding = 0),\n",
        "            nn.Conv2d(in_channels=11, out_channels=120, kernel_size=5, stride=1),\n",
        "            nn.Tanh()\n",
        "        )\n",
        "\n",
        "        self.classifier = nn.Sequential(\n",
        "            nn.Linear(in_features=120, out_features=84),\n",
        "            nn.Tanh(),\n",
        "            nn.Linear(in_features=84, out_features=n_classes),\n",
        "        )\n",
        "\n",
        "\n",
        "    def forward(self, x):\n",
        "        x = self.feature_extractor(x)\n",
        "        print(x.shape)\n",
        "        x = torch.flatten(x, 1)\n",
        "        print(x.shape)\n",
        "        logits = self.classifier(x)\n",
        "        return logits"
      ],
      "execution_count": 10,
      "outputs": []
    },
    {
      "cell_type": "code",
      "metadata": {
        "colab": {
          "base_uri": "https://localhost:8080/"
        },
        "id": "Ik6xsCOK_ViA",
        "outputId": "25f4c243-0c04-465f-9fcb-a1a81c71fb3d"
      },
      "source": [
        "from torchsummary import summary\n",
        "Linear_WideLeNet5 = Linear_WideLeNet5(10)\n",
        "Linear_WideLeNet5.cuda()\n",
        "summary(Linear_WideLeNet5, (3, 32, 32))"
      ],
      "execution_count": 11,
      "outputs": [
        {
          "output_type": "stream",
          "text": [
            "torch.Size([2, 120, 1, 1])\n",
            "torch.Size([2, 120])\n",
            "----------------------------------------------------------------\n",
            "        Layer (type)               Output Shape         Param #\n",
            "================================================================\n",
            "            Conv2d-1            [-1, 6, 28, 28]             456\n",
            "              Tanh-2            [-1, 6, 28, 28]               0\n",
            "         AvgPool2d-3            [-1, 6, 14, 14]               0\n",
            "            Conv2d-4           [-1, 32, 12, 12]           4,832\n",
            "            Conv2d-5            [-1, 8, 14, 14]             264\n",
            "            Conv2d-6           [-1, 62, 10, 10]          12,462\n",
            "              Tanh-7           [-1, 62, 10, 10]               0\n",
            "         AvgPool2d-8             [-1, 62, 5, 5]               0\n",
            "            Conv2d-9             [-1, 11, 5, 5]             693\n",
            "           Conv2d-10            [-1, 120, 1, 1]          33,120\n",
            "             Tanh-11            [-1, 120, 1, 1]               0\n",
            "           Linear-12                   [-1, 84]          10,164\n",
            "             Tanh-13                   [-1, 84]               0\n",
            "           Linear-14                   [-1, 10]             850\n",
            "================================================================\n",
            "Total params: 62,841\n",
            "Trainable params: 62,841\n",
            "Non-trainable params: 0\n",
            "----------------------------------------------------------------\n",
            "Input size (MB): 0.01\n",
            "Forward/backward pass size (MB): 0.24\n",
            "Params size (MB): 0.24\n",
            "Estimated Total Size (MB): 0.49\n",
            "----------------------------------------------------------------\n"
          ],
          "name": "stdout"
        }
      ]
    },
    {
      "cell_type": "code",
      "metadata": {
        "id": "HrVGYhZLT3GE"
      },
      "source": [
        ""
      ],
      "execution_count": null,
      "outputs": []
    },
    {
      "cell_type": "code",
      "metadata": {
        "id": "r0cETaj1T3I5"
      },
      "source": [
        ""
      ],
      "execution_count": null,
      "outputs": []
    },
    {
      "cell_type": "markdown",
      "metadata": {
        "id": "e-5qCooYT3s8"
      },
      "source": [
        "### Wide LeNet with Non-Linear Bottle Neck"
      ]
    },
    {
      "cell_type": "code",
      "metadata": {
        "id": "fGvSMZjRT513"
      },
      "source": [
        "class Non_Linear_WideLeNet5(nn.Module):\n",
        "\n",
        "    def __init__(self, n_classes):\n",
        "        super(Non_Linear_WideLeNet5, self).__init__()\n",
        "        \n",
        "        self.feature_extractor = nn.Sequential(            \n",
        "            nn.Conv2d(in_channels=3, out_channels=6, kernel_size=5, stride=1),\n",
        "            nn.Tanh(),\n",
        "            nn.AvgPool2d(kernel_size=2),\n",
        "            nn.Conv2d(in_channels=6, out_channels=32, kernel_size=5, stride=1, padding = 1),\n",
        "            nn.Tanh(),\n",
        "            nn.Conv2d(in_channels=32, out_channels=8, kernel_size=1, stride=1, padding = 1),\n",
        "            nn.Tanh(),\n",
        "            nn.Conv2d(in_channels=8, out_channels=62, kernel_size=5, stride=1),\n",
        "            nn.Tanh(),\n",
        "            nn.AvgPool2d(kernel_size=2),\n",
        "            nn.Conv2d(in_channels=62, out_channels=11, kernel_size=1, stride=1, padding = 0),\n",
        "            nn.Tanh(),\n",
        "            nn.Conv2d(in_channels=11, out_channels=120, kernel_size=5, stride=1),\n",
        "            nn.Tanh()\n",
        "        )\n",
        "\n",
        "        self.classifier = nn.Sequential(\n",
        "            nn.Linear(in_features=120, out_features=84),\n",
        "            nn.Tanh(),\n",
        "            nn.Linear(in_features=84, out_features=n_classes),\n",
        "        )\n",
        "\n",
        "\n",
        "    def forward(self, x):\n",
        "        x = self.feature_extractor(x)\n",
        "        print(x.shape)\n",
        "        x = torch.flatten(x, 1)\n",
        "        print(x.shape)\n",
        "        logits = self.classifier(x)\n",
        "        return logits"
      ],
      "execution_count": 12,
      "outputs": []
    },
    {
      "cell_type": "code",
      "metadata": {
        "colab": {
          "base_uri": "https://localhost:8080/"
        },
        "id": "IZVduRCsT54x",
        "outputId": "851912ce-60b6-4e13-cc5a-b4303cd0e9bb"
      },
      "source": [
        "from torchsummary import summary\n",
        "Non_Linear_WideLeNet5 = Non_Linear_WideLeNet5(10)\n",
        "Non_Linear_WideLeNet5.cuda()\n",
        "summary(Non_Linear_WideLeNet5, (3, 32, 32))"
      ],
      "execution_count": 13,
      "outputs": [
        {
          "output_type": "stream",
          "text": [
            "torch.Size([2, 120, 1, 1])\n",
            "torch.Size([2, 120])\n",
            "----------------------------------------------------------------\n",
            "        Layer (type)               Output Shape         Param #\n",
            "================================================================\n",
            "            Conv2d-1            [-1, 6, 28, 28]             456\n",
            "              Tanh-2            [-1, 6, 28, 28]               0\n",
            "         AvgPool2d-3            [-1, 6, 14, 14]               0\n",
            "            Conv2d-4           [-1, 32, 12, 12]           4,832\n",
            "              Tanh-5           [-1, 32, 12, 12]               0\n",
            "            Conv2d-6            [-1, 8, 14, 14]             264\n",
            "              Tanh-7            [-1, 8, 14, 14]               0\n",
            "            Conv2d-8           [-1, 62, 10, 10]          12,462\n",
            "              Tanh-9           [-1, 62, 10, 10]               0\n",
            "        AvgPool2d-10             [-1, 62, 5, 5]               0\n",
            "           Conv2d-11             [-1, 11, 5, 5]             693\n",
            "             Tanh-12             [-1, 11, 5, 5]               0\n",
            "           Conv2d-13            [-1, 120, 1, 1]          33,120\n",
            "             Tanh-14            [-1, 120, 1, 1]               0\n",
            "           Linear-15                   [-1, 84]          10,164\n",
            "             Tanh-16                   [-1, 84]               0\n",
            "           Linear-17                   [-1, 10]             850\n",
            "================================================================\n",
            "Total params: 62,841\n",
            "Trainable params: 62,841\n",
            "Non-trainable params: 0\n",
            "----------------------------------------------------------------\n",
            "Input size (MB): 0.01\n",
            "Forward/backward pass size (MB): 0.29\n",
            "Params size (MB): 0.24\n",
            "Estimated Total Size (MB): 0.54\n",
            "----------------------------------------------------------------\n"
          ],
          "name": "stdout"
        }
      ]
    },
    {
      "cell_type": "code",
      "metadata": {
        "id": "plDe7dSMxbNg"
      },
      "source": [
        ""
      ],
      "execution_count": null,
      "outputs": []
    }
  ]
}